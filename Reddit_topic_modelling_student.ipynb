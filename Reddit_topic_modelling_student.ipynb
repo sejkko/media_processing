{
 "cells": [
  {
   "cell_type": "code",
   "execution_count": 27,
   "id": "f4d2cebf-5a56-4c52-be20-ee365d201382",
   "metadata": {},
   "outputs": [],
   "source": [
    "import pandas as pd\n",
    "\n",
    "# add the rest of your imports below\n"
   ]
  },
  {
   "cell_type": "markdown",
   "id": "b2aba487-dc84-42a5-a17f-0888a1da1b00",
   "metadata": {},
   "source": [
    "---\n",
    "# Data loading and preprocessing\n",
    "---"
   ]
  },
  {
   "cell_type": "markdown",
   "id": "76c56fd1-ac5d-47a3-804b-d21f4a0fb25d",
   "metadata": {},
   "source": [
    "1. Read your assigned dataset as a **Pandas** dataframe, call it `df`\n",
    "2. keep only the columns \"author_id\", \"title\", and \"selftext\" \n",
    "3. Use the package **Redditcleaner** to remove specific _markdown_ placed by Reddit (use the `apply` function in Pandas for this)\n",
    "4. Standardise apostrophes to be all the straight and not curly \"’\" to \"'\" (a simple string replace should do it)\n",
    "5. Use the subpackage **Contractions** from the **pycontractions** package to expand English contractions (I'm, we'll, etc.)\n",
    "6. Investigate how to use the regular expressions package **re** to remove numbers, special characters and punctuation (keeping only alphabetic letters)\n",
    "7. Starndardise all titles and selftext to be lower-case\n",
    "8. Create a new column `fulltext` that is `title` + white_space + `selftext`\n",
    "9. Create a new column `tokenised` that contains the `fulltext` string as a list of words\n",
    "10. Use the stopwords (English) in the package **NLTK** to remove stopwords from the `tokenised` column\n",
    "11. Use the lematisation function in the **Spacy** package to replace each work in the `tokenised` lists by its lemma."
   ]
  },
  {
   "cell_type": "code",
   "execution_count": 1,
   "id": "bb5124cd-88c9-4542-bc29-8aa751c0ef88",
   "metadata": {},
   "outputs": [],
   "source": [
    "# your functions here\n"
   ]
  },
  {
   "cell_type": "markdown",
   "id": "d18082d0-067c-4f05-9370-6b790d1ad151",
   "metadata": {},
   "source": [
    "---\n",
    "# Corpus data as a matrix: TF-IDF\n",
    "---"
   ]
  },
  {
   "cell_type": "code",
   "execution_count": null,
   "id": "a9e1613b-c603-4ffd-aa8d-1250a9931346",
   "metadata": {},
   "outputs": [],
   "source": [
    "# ... Coming up in 2023"
   ]
  }
 ],
 "metadata": {
  "kernelspec": {
   "display_name": "Python 3 (ipykernel)",
   "language": "python",
   "name": "python3"
  },
  "language_info": {
   "codemirror_mode": {
    "name": "ipython",
    "version": 3
   },
   "file_extension": ".py",
   "mimetype": "text/x-python",
   "name": "python",
   "nbconvert_exporter": "python",
   "pygments_lexer": "ipython3",
   "version": "3.9.5"
  }
 },
 "nbformat": 4,
 "nbformat_minor": 5
}
