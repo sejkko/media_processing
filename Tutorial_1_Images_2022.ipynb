{
 "cells": [
  {
   "cell_type": "markdown",
   "id": "a3d3394e-f1ed-43b8-905b-c346157a2f94",
   "metadata": {},
   "source": [
    "# Image manipulation"
   ]
  },
  {
   "cell_type": "markdown",
   "id": "e7008b2a-a42f-4746-8321-8bdc03db78d5",
   "metadata": {},
   "source": [
    "Please rename this file using your student number + 'tdm_t1.ipynb'"
   ]
  },
  {
   "cell_type": "markdown",
   "id": "ef1de81c-5e2f-4865-8f9d-582ae37ec6e0",
   "metadata": {},
   "source": [
    "Imported libraries"
   ]
  },
  {
   "cell_type": "code",
   "execution_count": 1,
   "id": "fd7cfaed-02ef-4c5e-bf58-8a7bf78af8b2",
   "metadata": {},
   "outputs": [],
   "source": [
    "# add your imports here"
   ]
  },
  {
   "cell_type": "markdown",
   "id": "55115052-d81d-41ba-8916-4c79696381d0",
   "metadata": {
    "tags": []
   },
   "source": [
    "## Using PIL to load images"
   ]
  },
  {
   "cell_type": "markdown",
   "id": "b77a4cd7-e793-4f00-8a01-acfa71c59d1a",
   "metadata": {},
   "source": [
    "Use the PIL library and any other libraries to load images as numpy arrays. \n",
    "1. Explore and describe the RGB representation of the image\n",
    "2. Display the image on your Jupyter notebook\n",
    "3. Write a function that receives a vector [r,g,b] which \"adds\" the specified levels of red, green and blue to the image. The values can be negative.\n",
    "4. Test your function in the house.jpg image that should be supplied"
   ]
  },
  {
   "cell_type": "code",
   "execution_count": null,
   "id": "78e97511-688f-4bc8-b29c-4d54facef15e",
   "metadata": {},
   "outputs": [],
   "source": [
    "# add your functions here\n",
    "\n"
   ]
  },
  {
   "cell_type": "code",
   "execution_count": null,
   "id": "26b3d0e3-a30f-4fba-b625-a55dce056f12",
   "metadata": {},
   "outputs": [],
   "source": [
    "# add the answers to the questions above here\n",
    "\n"
   ]
  },
  {
   "cell_type": "markdown",
   "id": "2871e0f8-c5d8-4b1a-b183-524cf7746281",
   "metadata": {},
   "source": [
    "## Comparing images, part 1"
   ]
  },
  {
   "cell_type": "markdown",
   "id": "8615eff5-439e-41ab-91fa-7d3f10b61e19",
   "metadata": {},
   "source": [
    "Ensure you have access to the London faces database and download it.\n",
    "\n",
    "1. Write a function that loads all the images (.jpg) \n",
    "2. Write a function `linearise_image(img)` that turns a 2D image as numpy matrix into a numpy vector\n",
    "3. Create a matrix where rows and columns correspond to images, and each matrix value is the cosine similarity between the pair of faces (this will be a symetric matrix where all diagonal values are one, why?)\n",
    "4. Display the similarity matrix using a temperature colour map\n",
    "5. Analise the matrix. Are there qualitative image clusters that are more similar\n",
    "6. Investigate how to use Fuzzy C-means in Python to cluster your images based on the cosine similarity matrix\n",
    "7. Interpret your results"
   ]
  },
  {
   "cell_type": "code",
   "execution_count": 2,
   "id": "a215b8cf-1ff3-4317-af2b-7575f3dc2193",
   "metadata": {},
   "outputs": [],
   "source": [
    "# add your functions here\n",
    "\n",
    "\n"
   ]
  },
  {
   "cell_type": "code",
   "execution_count": null,
   "id": "2801bdec-be04-474b-920b-84aff0db7082",
   "metadata": {},
   "outputs": [],
   "source": [
    "# add the answers to the questions above here\n",
    "\n",
    "\n"
   ]
  }
 ],
 "metadata": {
  "kernelspec": {
   "display_name": "Python 3 (ipykernel)",
   "language": "python",
   "name": "python3"
  },
  "language_info": {
   "codemirror_mode": {
    "name": "ipython",
    "version": 3
   },
   "file_extension": ".py",
   "mimetype": "text/x-python",
   "name": "python",
   "nbconvert_exporter": "python",
   "pygments_lexer": "ipython3",
   "version": "3.9.5"
  }
 },
 "nbformat": 4,
 "nbformat_minor": 5
}
