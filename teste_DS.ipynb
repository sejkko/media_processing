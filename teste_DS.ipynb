{
  "cells": [
    {
      "cell_type": "markdown",
      "metadata": {},
      "source": [
        "# Data Science: Exame de recurso 23-24"
      ]
    },
    {
      "cell_type": "markdown",
      "metadata": {},
      "source": [
        "Instruções:\n",
        "\n",
        "1. Deverá completar o código Python onde solicitado. \n",
        "2. Deverá responder às perguntas de interpretação sempre em blocos markdown. \n",
        "3. Deverá responder o exame de forma autónoma, e sem usar ferramentas de IA generativo.\n",
        "4. Caso seja detectado o uso de ferramentas externas para resolver o exame, o exame será inválido (nota zero).\n",
        "5. Deverá submeter o seu exame resolvido até 25 de Janeiro de 2024 às 19h00 via módulo de submissão no Moodle a ser criado para o efeito (procure \"Recurso\" no final da página).\n",
        "6. No momento da partilha do enunciado deverá agendar uma sessão presencial ou online para a componente oral da avaliação.\n",
        "7. Sem a componente oral completa o exame de recurso é inválido (com nota zero)\n"
      ]
    },
    {
      "cell_type": "markdown",
      "metadata": {
        "id": "mOnULwkBVHYw"
      },
      "source": [
        "## Instalar bibliotecas necessárias"
      ]
    },
    {
      "cell_type": "code",
      "execution_count": null,
      "metadata": {
        "id": "umU5TjIVIuxz"
      },
      "outputs": [],
      "source": [
        "!pip install datasets"
      ]
    },
    {
      "cell_type": "markdown",
      "metadata": {
        "id": "b9YAZ7GVVLye"
      },
      "source": [
        "## Carregamento de dados Spotify"
      ]
    },
    {
      "cell_type": "code",
      "execution_count": null,
      "metadata": {
        "id": "id22iYNSVFEk"
      },
      "outputs": [],
      "source": [
        "# importar as bibliotecas que vamos usar \n",
        "\n",
        "import pandas as pd\n",
        "from datasets import load_dataset\n",
        "data = load_dataset(\"maharshipandya/spotify-tracks-dataset\", split=\"train\")\n",
        "# informação sobre o dataset\n",
        "# https://huggingface.co/datasets/maharshipandya/spotify-tracks-dataset\n",
        "df = pd.DataFrame(data)\n",
        "# drop da linha index duplicada\n",
        "df = df.drop(columns='Unnamed: 0')"
      ]
    },
    {
      "cell_type": "markdown",
      "metadata": {
        "id": "twxvBd7SIppg"
      },
      "source": [
        "# Perguntas do teste de recurso"
      ]
    },
    {
      "cell_type": "markdown",
      "metadata": {
        "id": "Tfad2SIkIpph"
      },
      "source": [
        "1. Qual a diferença entre as propriedades `DataFrame.loc` e `Dataframe.iloc` contidos na biblioteca `Pandas`? Responda com texto markdown no bloco seguinte."
      ]
    },
    {
      "cell_type": "markdown",
      "metadata": {
        "id": "LbZ9NLr0Ipph"
      },
      "source": [
        "\n",
        "**Resposta narrativa P1**  \n",
        ".  \n",
        ".  \n",
        "Edite este bloco  \n",
        ".  \n",
        ".  \n"
      ]
    },
    {
      "cell_type": "markdown",
      "metadata": {
        "id": "dwXEizrYIpph"
      },
      "source": [
        "2. Use uma das propriedades listadas acima (`iloc` ou `loc`) para executar um slice do dataframe `df`. O slice deve conter as linhas  de endereço 1000 até a 2542 e somente a segunda, quarta e sexta coluna. Explique todos os detalhes da sua instrução."
      ]
    },
    {
      "cell_type": "code",
      "execution_count": null,
      "metadata": {
        "id": "BT-RziiaIpph"
      },
      "outputs": [],
      "source": [
        "# código resposta pergunta 2"
      ]
    },
    {
      "cell_type": "markdown",
      "metadata": {},
      "source": [
        "**Resposta narrativa P2**  \n",
        ".  \n",
        ".  \n",
        "Edite este bloco  \n",
        ".  \n",
        ".  "
      ]
    },
    {
      "cell_type": "markdown",
      "metadata": {
        "id": "hiezhDBAAeM-"
      },
      "source": [
        "3.  Utilizando exclusivamente a biblioteca pandas, execute um `scatter_matrix()` com todas as variaveis do dataset `df` original (sem considerar o slice realizado no item 2) e responda:\n",
        "\n",
        "    1. Onde conseguimos indentificar a variável `popularity` na matriz. \n",
        "    2. Analise a matriz e considere, analiticamente, se podemos prever `popularity` através de uma ou mais das outras variaveis. Explique em detalhe através da formalização de uma hipótese derivada analiticamente."
      ]
    },
    {
      "cell_type": "code",
      "execution_count": null,
      "metadata": {
        "id": "WzyE2tjq-eQ1"
      },
      "outputs": [],
      "source": [
        "# código para pergunta 3"
      ]
    },
    {
      "cell_type": "markdown",
      "metadata": {},
      "source": [
        "**Resposta narrativa P3**  \n",
        ".  \n",
        ".  \n",
        "Edite este bloco  \n",
        ".  \n",
        ".  "
      ]
    },
    {
      "cell_type": "markdown",
      "metadata": {
        "id": "jgdBv0O_Ippi"
      },
      "source": [
        "4. Crie um modelo de regressão linear de `popularity` considerando as outras variáveis como dependentes. Explique os seus passos e responda:\n",
        "\n",
        "    1. Com 95% de confiança quais variaveis irá manter no seu modelo. Porque?\n"
      ]
    },
    {
      "cell_type": "code",
      "execution_count": null,
      "metadata": {
        "id": "-_X1N-LwIppi"
      },
      "outputs": [],
      "source": [
        "# código para pergunta 4"
      ]
    },
    {
      "cell_type": "markdown",
      "metadata": {},
      "source": [
        "**Resposta narrativa P4**  \n",
        ".  \n",
        ".  \n",
        "Edite este bloco  \n",
        ".  \n",
        ".  "
      ]
    },
    {
      "cell_type": "markdown",
      "metadata": {
        "id": "wo3D6kueIppi"
      },
      "source": [
        "5. Tendo eliminado ou não a variaveis do seu modelo, volte correr a regressão linear e utilize as métricas descritivas do modelo para aceitar ou refutar a hipótese que definiu na pergunta 3.2. Explique em detalhe o seu raciocínio.\n"
      ]
    },
    {
      "cell_type": "code",
      "execution_count": null,
      "metadata": {
        "id": "q8glYlz1Ippj"
      },
      "outputs": [],
      "source": [
        "# código pergunta 5"
      ]
    },
    {
      "cell_type": "markdown",
      "metadata": {},
      "source": [
        "**Resposta narrativa P5**  \n",
        ".  \n",
        ".  \n",
        "Edite este bloco  \n",
        ".  \n",
        ".  "
      ]
    },
    {
      "cell_type": "markdown",
      "metadata": {},
      "source": []
    }
  ],
  "metadata": {
    "colab": {
      "provenance": []
    },
    "kernelspec": {
      "display_name": "bertim",
      "language": "python",
      "name": "python3"
    },
    "language_info": {
      "codemirror_mode": {
        "name": "ipython",
        "version": 3
      },
      "file_extension": ".py",
      "mimetype": "text/x-python",
      "name": "python",
      "nbconvert_exporter": "python",
      "pygments_lexer": "ipython3",
      "version": "3.11.3"
    }
  },
  "nbformat": 4,
  "nbformat_minor": 0
}
